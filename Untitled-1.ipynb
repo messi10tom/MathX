{
 "cells": [
  {
   "cell_type": "code",
   "execution_count": 1,
   "metadata": {},
   "outputs": [],
   "source": [
    "from IPython.display import display, Latex\n",
    "from MathX import generate_answer, get_model"
   ]
  },
  {
   "cell_type": "code",
   "execution_count": 2,
   "metadata": {},
   "outputs": [],
   "source": [
    "model, tokenizer = get_model(device=\"cuda\")"
   ]
  },
  {
   "cell_type": "code",
   "execution_count": 7,
   "metadata": {},
   "outputs": [
    {
     "name": "stderr",
     "output_type": "stream",
     "text": [
      "Setting `pad_token_id` to `eos_token_id`:None for open-end generation.\n"
     ]
    }
   ],
   "source": [
    "# Correct answer is 66\n",
    "sample = \"\"\"Let $A=\\\\{1,2,3, \\\\ldots \\\\ldots \\\\ldots \\\\ldots, 100\\\\}$. Let $R$ be a relation on A defined by $(x, y) \\\\in R$ if and only if $2 x=3 y$. Let $R_1$ be a symmetric relation on $A$ such that $R \\\\subset R_1$ and the number of elements in $R_1$ is n . Then, the minimum value of n is, $\\\\qquad$\"\"\"\n",
    "answer = generate_answer(model, tokenizer, sample)"
   ]
  },
  {
   "cell_type": "code",
   "execution_count": 8,
   "metadata": {},
   "outputs": [
    {
     "name": "stdout",
     "output_type": "stream",
     "text": [
      "Question:\n",
      "\n"
     ]
    },
    {
     "data": {
      "text/latex": [
       "Let $A=\\{1,2,3, \\ldots \\ldots \\ldots \\ldots, 100\\}$. Let $R$ be a relation on A defined by $(x, y) \\in R$ if and only if $2 x=3 y$. Let $R_1$ be a symmetric relation on $A$ such that $R \\subset R_1$ and the number of elements in $R_1$ is n . Then, the minimum value of n is, $\\qquad$"
      ],
      "text/plain": [
       "<IPython.core.display.Latex object>"
      ]
     },
     "metadata": {},
     "output_type": "display_data"
    },
    {
     "name": "stdout",
     "output_type": "stream",
     "text": [
      "Answer:\n",
      "\n"
     ]
    },
    {
     "data": {
      "text/latex": [
       "The minimum value of n is 2.\n",
       "The relation R is symmetric because $2x=3y \\implies x=3y \\implies (x,y) \\in R$.\n",
       "The relation R is reflexive because $2x=3x \\implies x=3x \\implies (x,x) \\in R$.\n",
       "The relation R is transitive because $2x=3y \\implies 3x=3y \\implies (x,y) \\in R$.\n",
       "The relation R is irreflexive because $2x=3y \\implies x=3y \\implies (x,y) \\not \\in R$.\n",
       "The relation R is asymmetric because $2x=3y \\implies (x,y) \\not \\in R$.\n",
       "The number of elements in R is n = 2.\n",
       "Hence, the minimum value of n is 2."
      ],
      "text/plain": [
       "<IPython.core.display.Latex object>"
      ]
     },
     "metadata": {},
     "output_type": "display_data"
    }
   ],
   "source": [
    "print(\"Question:\\n\")\n",
    "display(Latex(sample))\n",
    "print(\"Answer:\\n\")\n",
    "display(Latex(answer))"
   ]
  }
 ],
 "metadata": {
  "kernelspec": {
   "display_name": "Python 3",
   "language": "python",
   "name": "python3"
  },
  "language_info": {
   "codemirror_mode": {
    "name": "ipython",
    "version": 3
   },
   "file_extension": ".py",
   "mimetype": "text/x-python",
   "name": "python",
   "nbconvert_exporter": "python",
   "pygments_lexer": "ipython3",
   "version": "3.12.6"
  }
 },
 "nbformat": 4,
 "nbformat_minor": 2
}
