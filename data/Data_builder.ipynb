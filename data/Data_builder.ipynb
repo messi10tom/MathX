{
  "cells": [
    {
      "cell_type": "code",
      "execution_count": 1,
      "metadata": {
        "id": "QpXZvoPH3e_D"
      },
      "outputs": [
        {
          "name": "stdout",
          "output_type": "stream",
          "text": [
            "Dataset URL: https://www.kaggle.com/datasets/mathurinache/math-dataset\n",
            "License(s): CC-BY-NC-SA-4.0\n",
            "Downloading math-dataset.zip to c:\\Users\\USER\\Documents\\MathX\\MathX\\data\n",
            "\n"
          ]
        },
        {
          "name": "stderr",
          "output_type": "stream",
          "text": [
            "\n",
            "  0%|          | 0.00/7.07M [00:00<?, ?B/s]\n",
            " 14%|█▍        | 1.00M/7.07M [00:01<00:08, 781kB/s]\n",
            " 28%|██▊       | 2.00M/7.07M [00:01<00:03, 1.57MB/s]\n",
            " 42%|████▏     | 3.00M/7.07M [00:01<00:01, 2.52MB/s]\n",
            " 71%|███████   | 5.00M/7.07M [00:01<00:00, 4.75MB/s]\n",
            "100%|██████████| 7.07M/7.07M [00:01<00:00, 3.92MB/s]\n"
          ]
        }
      ],
      "source": [
        "# dataset\n",
        "# https://www.kaggle.com/datasets/mathurinache/math-dataset\n",
        "!kaggle datasets download -d mathurinache/math-dataset"
      ]
    },
    {
      "cell_type": "code",
      "execution_count": 6,
      "metadata": {},
      "outputs": [],
      "source": [
        "from pathlib import Path\n",
        "import json"
      ]
    },
    {
      "cell_type": "code",
      "execution_count": 7,
      "metadata": {},
      "outputs": [],
      "source": [
        "QA = {}\n",
        "\n",
        "for math_file in Path('./math-dataset').rglob('*.json'):\n",
        "    data = json.load(math_file.open())\n",
        "    QA[data['problem']] = data['solution']"
      ]
    }
  ],
  "metadata": {
    "colab": {
      "authorship_tag": "ABX9TyOV07CSRbToWqWgkwlQKgh4",
      "include_colab_link": true,
      "provenance": []
    },
    "kernelspec": {
      "display_name": "Python 3",
      "name": "python3"
    },
    "language_info": {
      "codemirror_mode": {
        "name": "ipython",
        "version": 3
      },
      "file_extension": ".py",
      "mimetype": "text/x-python",
      "name": "python",
      "nbconvert_exporter": "python",
      "pygments_lexer": "ipython3",
      "version": "3.12.6"
    }
  },
  "nbformat": 4,
  "nbformat_minor": 0
}
