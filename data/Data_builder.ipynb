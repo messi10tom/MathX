{
  "cells": [
    {
      "cell_type": "code",
      "execution_count": 1,
      "metadata": {
        "id": "QpXZvoPH3e_D"
      },
      "outputs": [
        {
          "name": "stdout",
          "output_type": "stream",
          "text": [
            "Dataset URL: https://www.kaggle.com/datasets/mathurinache/math-dataset\n",
            "License(s): CC-BY-NC-SA-4.0\n",
            "Downloading math-dataset.zip to c:\\Users\\USER\\Documents\\MathX\\MathX\\data\n",
            "\n"
          ]
        },
        {
          "name": "stderr",
          "output_type": "stream",
          "text": [
            "\n",
            "  0%|          | 0.00/7.07M [00:00<?, ?B/s]\n",
            " 14%|█▍        | 1.00M/7.07M [00:01<00:08, 781kB/s]\n",
            " 28%|██▊       | 2.00M/7.07M [00:01<00:03, 1.57MB/s]\n",
            " 42%|████▏     | 3.00M/7.07M [00:01<00:01, 2.52MB/s]\n",
            " 71%|███████   | 5.00M/7.07M [00:01<00:00, 4.75MB/s]\n",
            "100%|██████████| 7.07M/7.07M [00:01<00:00, 3.92MB/s]\n"
          ]
        }
      ],
      "source": [
        "# dataset\n",
        "# https://www.kaggle.com/datasets/mathurinache/math-dataset\n",
        "!kaggle datasets download -d mathurinache/math-dataset"
      ]
    },
    {
      "cell_type": "code",
      "execution_count": 25,
      "metadata": {},
      "outputs": [],
      "source": [
        "from pathlib import Path\n",
        "import json\n",
        "import os\n",
        "import tqdm\n",
        "from IPython.display import display, Latex, clear_output\n",
        "from sympy import preview"
      ]
    },
    {
      "cell_type": "code",
      "execution_count": 33,
      "metadata": {},
      "outputs": [],
      "source": [
        "QA = []\n",
        "\n",
        "for math_file in Path('./math-dataset').rglob('*.json'):\n",
        "    data = json.load(math_file.open())\n",
        "    QA.append([data['problem'], data['solution']])"
      ]
    },
    {
      "cell_type": "code",
      "execution_count": 41,
      "metadata": {},
      "outputs": [
        {
          "data": {
            "text/plain": [
              "'Find $\\\\sin 20^\\\\circ \\\\sin 40^\\\\circ \\\\sin 60^\\\\circ \\\\sin 80^\\\\circ \\\\sin 100^\\\\circ \\\\sin 120^\\\\circ \\\\sin 140^\\\\circ \\\\sin 160^\\\\circ.$'"
            ]
          },
          "execution_count": 41,
          "metadata": {},
          "output_type": "execute_result"
        }
      ],
      "source": [
        "sample[0]"
      ]
    },
    {
      "cell_type": "code",
      "execution_count": 45,
      "metadata": {},
      "outputs": [
        {
          "name": "stdout",
          "output_type": "stream",
          "text": [
            "Question:\n",
            "\n"
          ]
        },
        {
          "data": {
            "text/latex": [
              "What is the distance between the two intersections of $y=x^2$ and $x+y=1$?"
            ],
            "text/plain": [
              "<IPython.core.display.Latex object>"
            ]
          },
          "metadata": {},
          "output_type": "display_data"
        },
        {
          "name": "stdout",
          "output_type": "stream",
          "text": [
            "\n",
            "Answer:\n",
            "\n"
          ]
        },
        {
          "data": {
            "text/latex": [
              "To find the $x$-coordinates of the intersections, substitute $x^2$ for $y$ in $x+y=1$ and solve for $x$, resulting in  \\begin{align*}\n",
              "x+x^2&=1 \\\\\n",
              "\\Rightarrow \\qquad x^2+x-1&=0 \\\\\n",
              "\\Rightarrow \\qquad x&=\\frac{-1\\pm\\sqrt{1+4}}2=\\frac{-1\\pm\\sqrt5}2\\\\\n",
              "\\end{align*}Using each of these coordinates to solve for $y$ gives us the intersections at $\\left(\\frac{-1+\\sqrt5}2,\\frac{3-\\sqrt5}2\\right)$ and $\\left(\\frac{-1-\\sqrt5}2,\\frac{3+\\sqrt5}2\\right)$.  Using the distance formula, we have \\begin{align*}\n",
              "&\\sqrt{ \\left(\\frac{-1+\\sqrt5}{2}-\\frac{-1-\\sqrt5}{2}\\right)^2 + \\left(\\frac{3-\\sqrt5}2-\\frac{3+\\sqrt5}2\\right)^2 }\\\\\n",
              "&\\qquad=\\sqrt{\\left(\\frac{2\\sqrt5}2\\right)^2 + \\left(-\\frac{2\\sqrt5}2\\right)^2}\\\\\n",
              "&\\qquad=\\sqrt{ 2\\sqrt5^2 }\\\\\n",
              "&\\qquad=\\boxed{\\sqrt{10}}.\n",
              "\\end{align*}"
            ],
            "text/plain": [
              "<IPython.core.display.Latex object>"
            ]
          },
          "metadata": {},
          "output_type": "display_data"
        }
      ],
      "source": [
        "sample = QA[968]\n",
        "\n",
        "print(\"Question:\\n\")\n",
        "display(Latex(sample[0]))\n",
        "print(\"\\nAnswer:\\n\")\n",
        "display(Latex(sample[1]))"
      ]
    },
    {
      "cell_type": "code",
      "execution_count": 47,
      "metadata": {},
      "outputs": [
        {
          "name": "stderr",
          "output_type": "stream",
          "text": [
            "Generating images:   1%|          | 138/12500 [00:01<01:43, 119.55it/s]\n"
          ]
        },
        {
          "ename": "RuntimeError",
          "evalue": "'latex' exited abnormally with the following output:\nb\"This is pdfTeX, Version 3.141592653-2.6-1.40.26 (MiKTeX 24.4) (preloaded format=latex.fmt)\\r\\n restricted \\\\write18 enabled.\\r\\nentering extended mode\\r\\n(texput.tex\\r\\nLaTeX2e <2024-06-01> patch level 2\\r\\nL3 programming layer <2024-08-30>\\r\\n\\r\\n(C:\\\\Users\\\\USER\\\\AppData\\\\Local\\\\Programs\\\\MiKTeX\\\\tex/latex/standalone\\\\standalone.cl\\r\\ns\\r\\nDocument Class: standalone 2022/10/10 v1.3b Class to compile TeX sub-files stan\\r\\ndalone\\r\\n(C:\\\\Users\\\\USER\\\\AppData\\\\Local\\\\Programs\\\\MiKTeX\\\\tex/latex/tools\\\\shellesc.sty)\\r\\n(C:\\\\Users\\\\USER\\\\AppData\\\\Local\\\\Programs\\\\MiKTeX\\\\tex/generic/iftex\\\\ifluatex.sty\\r\\n(C:\\\\Users\\\\USER\\\\AppData\\\\Local\\\\Programs\\\\MiKTeX\\\\tex/generic/iftex\\\\iftex.sty))\\r\\n(C:\\\\Users\\\\USER\\\\AppData\\\\Local\\\\Programs\\\\MiKTeX\\\\tex/latex/xkeyval\\\\xkeyval.sty\\r\\n(C:\\\\Users\\\\USER\\\\AppData\\\\Local\\\\Programs\\\\MiKTeX\\\\tex/generic/xkeyval\\\\xkeyval.tex\\r\\n(C:\\\\Users\\\\USER\\\\AppData\\\\Local\\\\Programs\\\\MiKTeX\\\\tex/generic/xkeyval\\\\xkvutils.tex\\r\\n(C:\\\\Users\\\\USER\\\\AppData\\\\Local\\\\Programs\\\\MiKTeX\\\\tex/generic/xkeyval\\\\keyval.tex))))\\r\\n\\r\\n(C:\\\\Users\\\\USER\\\\AppData\\\\Local\\\\Programs\\\\MiKTeX\\\\tex/latex/standalone\\\\standalone.cf\\r\\ng) (C:\\\\Users\\\\USER\\\\AppData\\\\Local\\\\Programs\\\\MiKTeX\\\\tex/latex/base\\\\article.cls\\r\\nDocument Class: article 2024/02/08 v1.4n Standard LaTeX document class\\r\\n(C:\\\\Users\\\\USER\\\\AppData\\\\Local\\\\Programs\\\\MiKTeX\\\\tex/latex/base\\\\size12.clo))\\r\\n(C:\\\\Users\\\\USER\\\\AppData\\\\Local\\\\Programs\\\\MiKTeX\\\\tex/latex/varwidth\\\\varwidth.sty))\\r\\n(C:\\\\Users\\\\USER\\\\AppData\\\\Local\\\\Programs\\\\MiKTeX\\\\tex/latex/amsmath\\\\amsmath.sty\\r\\nFor additional information on amsmath, use the `?' option.\\r\\n(C:\\\\Users\\\\USER\\\\AppData\\\\Local\\\\Programs\\\\MiKTeX\\\\tex/latex/amsmath\\\\amstext.sty\\r\\n(C:\\\\Users\\\\USER\\\\AppData\\\\Local\\\\Programs\\\\MiKTeX\\\\tex/latex/amsmath\\\\amsgen.sty))\\r\\n(C:\\\\Users\\\\USER\\\\AppData\\\\Local\\\\Programs\\\\MiKTeX\\\\tex/latex/amsmath\\\\amsbsy.sty)\\r\\n(C:\\\\Users\\\\USER\\\\AppData\\\\Local\\\\Programs\\\\MiKTeX\\\\tex/latex/amsmath\\\\amsopn.sty))\\r\\n(C:\\\\Users\\\\USER\\\\AppData\\\\Local\\\\Programs\\\\MiKTeX\\\\tex/latex/amsfonts\\\\amsfonts.sty)\\r\\n(C:\\\\Users\\\\USER\\\\AppData\\\\Local\\\\Programs\\\\MiKTeX\\\\tex/latex/euler\\\\euler.sty\\r\\nPackage: `euler' v2.5 <1995/03/05> (FJ and FMi)\\r\\n)\\r\\n(C:\\\\Users\\\\USER\\\\AppData\\\\Local\\\\Programs\\\\MiKTeX\\\\tex/latex/l3backend\\\\l3backend-dvip\\r\\ns.def)\\r\\nNo file texput.aux.\\r\\n\\r\\nLaTeX Font Warning: Font shape `OT1/cmr/m/up' undefined\\r\\n(Font)              using `OT1/cmr/m/n' instead on input line 9.\\r\\n\\r\\n(C:\\\\Users\\\\USER\\\\AppData\\\\Local\\\\Programs\\\\MiKTeX\\\\tex/latex/amsfonts\\\\ueur.fd)\\r\\n(C:\\\\Users\\\\USER\\\\AppData\\\\Local\\\\Programs\\\\MiKTeX\\\\tex/latex/amsfonts\\\\umsa.fd)\\r\\n(C:\\\\Users\\\\USER\\\\AppData\\\\Local\\\\Programs\\\\MiKTeX\\\\tex/latex/amsfonts\\\\umsb.fd)\\r\\n(C:\\\\Users\\\\USER\\\\AppData\\\\Local\\\\Programs\\\\MiKTeX\\\\tex/latex/amsfonts\\\\ueuf.fd)\\r\\n(C:\\\\Users\\\\USER\\\\AppData\\\\Local\\\\Programs\\\\MiKTeX\\\\tex/latex/amsfonts\\\\ueus.fd)\\r\\n(C:\\\\Users\\\\USER\\\\AppData\\\\Local\\\\Programs\\\\MiKTeX\\\\tex/latex/amsfonts\\\\ueuex.fd)\\r\\nRunaway argument?\\r\\n{\\\\text {The function \\\\$f(x)\\\\$ is graphed below. Each small box has wi\\\\ETC.\\r\\n! Paragraph ended before \\\\select@group was complete.\\r\\n<to be read again> \\r\\n                   \\\\par \\r\\nl.10 \\r\\n     \\r\\nNo pages of output.\\r\\nTranscript written on texput.log.\\r\\nlatex: major issue: So far, you have not checked for MiKTeX updates.\\r\\n\"",
          "output_type": "error",
          "traceback": [
            "\u001b[1;31m---------------------------------------------------------------------------\u001b[0m",
            "\u001b[1;31mCalledProcessError\u001b[0m                        Traceback (most recent call last)",
            "File \u001b[1;32mc:\\Users\\USER\\OneDrive\\Documents\\Github\\python\\Lib\\site-packages\\sympy\\printing\\preview.py:311\u001b[0m, in \u001b[0;36mpreview\u001b[1;34m(expr, output, viewer, euler, packages, filename, outputbuffer, preamble, dvioptions, outputTexFile, extra_preamble, fontsize, **latex_settings)\u001b[0m\n\u001b[0;32m    310\u001b[0m \u001b[38;5;28;01mtry\u001b[39;00m:\n\u001b[1;32m--> 311\u001b[0m     \u001b[43m_check_output_no_window\u001b[49m\u001b[43m(\u001b[49m\n\u001b[0;32m    312\u001b[0m \u001b[43m        \u001b[49m\u001b[43m[\u001b[49m\u001b[38;5;124;43m'\u001b[39;49m\u001b[38;5;124;43mlatex\u001b[39;49m\u001b[38;5;124;43m'\u001b[39;49m\u001b[43m,\u001b[49m\u001b[43m \u001b[49m\u001b[38;5;124;43m'\u001b[39;49m\u001b[38;5;124;43m-halt-on-error\u001b[39;49m\u001b[38;5;124;43m'\u001b[39;49m\u001b[43m,\u001b[49m\u001b[43m \u001b[49m\u001b[38;5;124;43m'\u001b[39;49m\u001b[38;5;124;43m-interaction=nonstopmode\u001b[39;49m\u001b[38;5;124;43m'\u001b[39;49m\u001b[43m,\u001b[49m\n\u001b[0;32m    313\u001b[0m \u001b[43m         \u001b[49m\u001b[38;5;124;43m'\u001b[39;49m\u001b[38;5;124;43mtexput.tex\u001b[39;49m\u001b[38;5;124;43m'\u001b[39;49m\u001b[43m]\u001b[49m\u001b[43m,\u001b[49m\n\u001b[0;32m    314\u001b[0m \u001b[43m        \u001b[49m\u001b[43mcwd\u001b[49m\u001b[38;5;241;43m=\u001b[39;49m\u001b[43mworkdir\u001b[49m\u001b[43m,\u001b[49m\n\u001b[0;32m    315\u001b[0m \u001b[43m        \u001b[49m\u001b[43mstderr\u001b[49m\u001b[38;5;241;43m=\u001b[39;49m\u001b[43mSTDOUT\u001b[49m\u001b[43m)\u001b[49m\n\u001b[0;32m    316\u001b[0m \u001b[38;5;28;01mexcept\u001b[39;00m CalledProcessError \u001b[38;5;28;01mas\u001b[39;00m e:\n",
            "File \u001b[1;32mc:\\Users\\USER\\OneDrive\\Documents\\Github\\python\\Lib\\site-packages\\sympy\\printing\\preview.py:25\u001b[0m, in \u001b[0;36m_check_output_no_window\u001b[1;34m(*args, **kwargs)\u001b[0m\n\u001b[0;32m     24\u001b[0m     creation_flag \u001b[38;5;241m=\u001b[39m \u001b[38;5;241m0\u001b[39m \u001b[38;5;66;03m# Default value\u001b[39;00m\n\u001b[1;32m---> 25\u001b[0m \u001b[38;5;28;01mreturn\u001b[39;00m \u001b[43mcheck_output\u001b[49m\u001b[43m(\u001b[49m\u001b[38;5;241;43m*\u001b[39;49m\u001b[43margs\u001b[49m\u001b[43m,\u001b[49m\u001b[43m \u001b[49m\u001b[43mcreationflags\u001b[49m\u001b[38;5;241;43m=\u001b[39;49m\u001b[43mcreation_flag\u001b[49m\u001b[43m,\u001b[49m\u001b[43m \u001b[49m\u001b[38;5;241;43m*\u001b[39;49m\u001b[38;5;241;43m*\u001b[39;49m\u001b[43mkwargs\u001b[49m\u001b[43m)\u001b[49m\n",
            "File \u001b[1;32mc:\\Users\\USER\\OneDrive\\Documents\\Github\\python\\Lib\\subprocess.py:466\u001b[0m, in \u001b[0;36mcheck_output\u001b[1;34m(timeout, *popenargs, **kwargs)\u001b[0m\n\u001b[0;32m    464\u001b[0m     kwargs[\u001b[38;5;124m'\u001b[39m\u001b[38;5;124minput\u001b[39m\u001b[38;5;124m'\u001b[39m] \u001b[38;5;241m=\u001b[39m empty\n\u001b[1;32m--> 466\u001b[0m \u001b[38;5;28;01mreturn\u001b[39;00m \u001b[43mrun\u001b[49m\u001b[43m(\u001b[49m\u001b[38;5;241;43m*\u001b[39;49m\u001b[43mpopenargs\u001b[49m\u001b[43m,\u001b[49m\u001b[43m \u001b[49m\u001b[43mstdout\u001b[49m\u001b[38;5;241;43m=\u001b[39;49m\u001b[43mPIPE\u001b[49m\u001b[43m,\u001b[49m\u001b[43m \u001b[49m\u001b[43mtimeout\u001b[49m\u001b[38;5;241;43m=\u001b[39;49m\u001b[43mtimeout\u001b[49m\u001b[43m,\u001b[49m\u001b[43m \u001b[49m\u001b[43mcheck\u001b[49m\u001b[38;5;241;43m=\u001b[39;49m\u001b[38;5;28;43;01mTrue\u001b[39;49;00m\u001b[43m,\u001b[49m\n\u001b[0;32m    467\u001b[0m \u001b[43m           \u001b[49m\u001b[38;5;241;43m*\u001b[39;49m\u001b[38;5;241;43m*\u001b[39;49m\u001b[43mkwargs\u001b[49m\u001b[43m)\u001b[49m\u001b[38;5;241m.\u001b[39mstdout\n",
            "File \u001b[1;32mc:\\Users\\USER\\OneDrive\\Documents\\Github\\python\\Lib\\subprocess.py:571\u001b[0m, in \u001b[0;36mrun\u001b[1;34m(input, capture_output, timeout, check, *popenargs, **kwargs)\u001b[0m\n\u001b[0;32m    570\u001b[0m     \u001b[38;5;28;01mif\u001b[39;00m check \u001b[38;5;129;01mand\u001b[39;00m retcode:\n\u001b[1;32m--> 571\u001b[0m         \u001b[38;5;28;01mraise\u001b[39;00m CalledProcessError(retcode, process\u001b[38;5;241m.\u001b[39margs,\n\u001b[0;32m    572\u001b[0m                                  output\u001b[38;5;241m=\u001b[39mstdout, stderr\u001b[38;5;241m=\u001b[39mstderr)\n\u001b[0;32m    573\u001b[0m \u001b[38;5;28;01mreturn\u001b[39;00m CompletedProcess(process\u001b[38;5;241m.\u001b[39margs, retcode, stdout, stderr)\n",
            "\u001b[1;31mCalledProcessError\u001b[0m: Command '['latex', '-halt-on-error', '-interaction=nonstopmode', 'texput.tex']' returned non-zero exit status 1.",
            "\nDuring handling of the above exception, another exception occurred:\n",
            "\u001b[1;31mRuntimeError\u001b[0m                              Traceback (most recent call last)",
            "Cell \u001b[1;32mIn[47], line 12\u001b[0m\n\u001b[0;32m      9\u001b[0m     \u001b[38;5;66;03m# Check if the image already exists\u001b[39;00m\n\u001b[0;32m     10\u001b[0m     \u001b[38;5;28;01mif\u001b[39;00m os\u001b[38;5;241m.\u001b[39mpath\u001b[38;5;241m.\u001b[39mexists(\u001b[38;5;124mf\u001b[39m\u001b[38;5;124m'\u001b[39m\u001b[38;5;124m./latexIMG/MATH_LATEX_DATA_\u001b[39m\u001b[38;5;132;01m{\u001b[39;00mix\u001b[38;5;132;01m}\u001b[39;00m\u001b[38;5;124m.jpg\u001b[39m\u001b[38;5;124m'\u001b[39m): \u001b[38;5;28;01mcontinue\u001b[39;00m\n\u001b[1;32m---> 12\u001b[0m     \u001b[43mpreview\u001b[49m\u001b[43m(\u001b[49m\u001b[43mquest\u001b[49m\u001b[43m,\u001b[49m\u001b[43m \u001b[49m\u001b[43mviewer\u001b[49m\u001b[38;5;241;43m=\u001b[39;49m\u001b[38;5;124;43m'\u001b[39;49m\u001b[38;5;124;43mfile\u001b[39;49m\u001b[38;5;124;43m'\u001b[39;49m\u001b[43m,\u001b[49m\u001b[43m \u001b[49m\u001b[43mfilename\u001b[49m\u001b[38;5;241;43m=\u001b[39;49m\u001b[38;5;124;43mf\u001b[39;49m\u001b[38;5;124;43m'\u001b[39;49m\u001b[38;5;124;43m./latexIMG/MATH_LATEX_DATA_\u001b[39;49m\u001b[38;5;132;43;01m{\u001b[39;49;00m\u001b[43mix\u001b[49m\u001b[38;5;132;43;01m}\u001b[39;49;00m\u001b[38;5;124;43m.jpg\u001b[39;49m\u001b[38;5;124;43m'\u001b[39;49m\u001b[43m)\u001b[49m\n\u001b[0;32m     14\u001b[0m \u001b[38;5;66;03m#     try:\u001b[39;00m\n\u001b[0;32m     15\u001b[0m \u001b[38;5;66;03m#          preview(quest, viewer='file', filename=f'./latexIMG/MATH_LATEX_DATA_{ix}.jpg')\u001b[39;00m\n\u001b[0;32m     16\u001b[0m \n\u001b[0;32m     17\u001b[0m \u001b[38;5;66;03m#     except RuntimeError:\u001b[39;00m\n\u001b[0;32m     18\u001b[0m \u001b[38;5;66;03m#          clear_output()\u001b[39;00m\n\u001b[0;32m     19\u001b[0m \u001b[38;5;66;03m#          print(\"skiping! \\nindex code:\", ix, \"\\n\\nSKIPED = \", skip:=skip+1)\u001b[39;00m\n",
            "File \u001b[1;32mc:\\Users\\USER\\OneDrive\\Documents\\Github\\python\\Lib\\site-packages\\sympy\\printing\\preview.py:317\u001b[0m, in \u001b[0;36mpreview\u001b[1;34m(expr, output, viewer, euler, packages, filename, outputbuffer, preamble, dvioptions, outputTexFile, extra_preamble, fontsize, **latex_settings)\u001b[0m\n\u001b[0;32m    311\u001b[0m     _check_output_no_window(\n\u001b[0;32m    312\u001b[0m         [\u001b[38;5;124m'\u001b[39m\u001b[38;5;124mlatex\u001b[39m\u001b[38;5;124m'\u001b[39m, \u001b[38;5;124m'\u001b[39m\u001b[38;5;124m-halt-on-error\u001b[39m\u001b[38;5;124m'\u001b[39m, \u001b[38;5;124m'\u001b[39m\u001b[38;5;124m-interaction=nonstopmode\u001b[39m\u001b[38;5;124m'\u001b[39m,\n\u001b[0;32m    313\u001b[0m          \u001b[38;5;124m'\u001b[39m\u001b[38;5;124mtexput.tex\u001b[39m\u001b[38;5;124m'\u001b[39m],\n\u001b[0;32m    314\u001b[0m         cwd\u001b[38;5;241m=\u001b[39mworkdir,\n\u001b[0;32m    315\u001b[0m         stderr\u001b[38;5;241m=\u001b[39mSTDOUT)\n\u001b[0;32m    316\u001b[0m \u001b[38;5;28;01mexcept\u001b[39;00m CalledProcessError \u001b[38;5;28;01mas\u001b[39;00m e:\n\u001b[1;32m--> 317\u001b[0m     \u001b[38;5;28;01mraise\u001b[39;00m \u001b[38;5;167;01mRuntimeError\u001b[39;00m(\n\u001b[0;32m    318\u001b[0m         \u001b[38;5;124m\"\u001b[39m\u001b[38;5;124m'\u001b[39m\u001b[38;5;124mlatex\u001b[39m\u001b[38;5;124m'\u001b[39m\u001b[38;5;124m exited abnormally with the following output:\u001b[39m\u001b[38;5;130;01m\\n\u001b[39;00m\u001b[38;5;132;01m%s\u001b[39;00m\u001b[38;5;124m\"\u001b[39m \u001b[38;5;241m%\u001b[39m\n\u001b[0;32m    319\u001b[0m         e\u001b[38;5;241m.\u001b[39moutput)\n\u001b[0;32m    321\u001b[0m src \u001b[38;5;241m=\u001b[39m \u001b[38;5;124m\"\u001b[39m\u001b[38;5;124mtexput.\u001b[39m\u001b[38;5;132;01m%s\u001b[39;00m\u001b[38;5;124m\"\u001b[39m \u001b[38;5;241m%\u001b[39m (output)\n\u001b[0;32m    323\u001b[0m \u001b[38;5;28;01mif\u001b[39;00m output \u001b[38;5;241m!=\u001b[39m \u001b[38;5;124m\"\u001b[39m\u001b[38;5;124mdvi\u001b[39m\u001b[38;5;124m\"\u001b[39m:\n\u001b[0;32m    324\u001b[0m     \u001b[38;5;66;03m# in order of preference\u001b[39;00m\n",
            "\u001b[1;31mRuntimeError\u001b[0m: 'latex' exited abnormally with the following output:\nb\"This is pdfTeX, Version 3.141592653-2.6-1.40.26 (MiKTeX 24.4) (preloaded format=latex.fmt)\\r\\n restricted \\\\write18 enabled.\\r\\nentering extended mode\\r\\n(texput.tex\\r\\nLaTeX2e <2024-06-01> patch level 2\\r\\nL3 programming layer <2024-08-30>\\r\\n\\r\\n(C:\\\\Users\\\\USER\\\\AppData\\\\Local\\\\Programs\\\\MiKTeX\\\\tex/latex/standalone\\\\standalone.cl\\r\\ns\\r\\nDocument Class: standalone 2022/10/10 v1.3b Class to compile TeX sub-files stan\\r\\ndalone\\r\\n(C:\\\\Users\\\\USER\\\\AppData\\\\Local\\\\Programs\\\\MiKTeX\\\\tex/latex/tools\\\\shellesc.sty)\\r\\n(C:\\\\Users\\\\USER\\\\AppData\\\\Local\\\\Programs\\\\MiKTeX\\\\tex/generic/iftex\\\\ifluatex.sty\\r\\n(C:\\\\Users\\\\USER\\\\AppData\\\\Local\\\\Programs\\\\MiKTeX\\\\tex/generic/iftex\\\\iftex.sty))\\r\\n(C:\\\\Users\\\\USER\\\\AppData\\\\Local\\\\Programs\\\\MiKTeX\\\\tex/latex/xkeyval\\\\xkeyval.sty\\r\\n(C:\\\\Users\\\\USER\\\\AppData\\\\Local\\\\Programs\\\\MiKTeX\\\\tex/generic/xkeyval\\\\xkeyval.tex\\r\\n(C:\\\\Users\\\\USER\\\\AppData\\\\Local\\\\Programs\\\\MiKTeX\\\\tex/generic/xkeyval\\\\xkvutils.tex\\r\\n(C:\\\\Users\\\\USER\\\\AppData\\\\Local\\\\Programs\\\\MiKTeX\\\\tex/generic/xkeyval\\\\keyval.tex))))\\r\\n\\r\\n(C:\\\\Users\\\\USER\\\\AppData\\\\Local\\\\Programs\\\\MiKTeX\\\\tex/latex/standalone\\\\standalone.cf\\r\\ng) (C:\\\\Users\\\\USER\\\\AppData\\\\Local\\\\Programs\\\\MiKTeX\\\\tex/latex/base\\\\article.cls\\r\\nDocument Class: article 2024/02/08 v1.4n Standard LaTeX document class\\r\\n(C:\\\\Users\\\\USER\\\\AppData\\\\Local\\\\Programs\\\\MiKTeX\\\\tex/latex/base\\\\size12.clo))\\r\\n(C:\\\\Users\\\\USER\\\\AppData\\\\Local\\\\Programs\\\\MiKTeX\\\\tex/latex/varwidth\\\\varwidth.sty))\\r\\n(C:\\\\Users\\\\USER\\\\AppData\\\\Local\\\\Programs\\\\MiKTeX\\\\tex/latex/amsmath\\\\amsmath.sty\\r\\nFor additional information on amsmath, use the `?' option.\\r\\n(C:\\\\Users\\\\USER\\\\AppData\\\\Local\\\\Programs\\\\MiKTeX\\\\tex/latex/amsmath\\\\amstext.sty\\r\\n(C:\\\\Users\\\\USER\\\\AppData\\\\Local\\\\Programs\\\\MiKTeX\\\\tex/latex/amsmath\\\\amsgen.sty))\\r\\n(C:\\\\Users\\\\USER\\\\AppData\\\\Local\\\\Programs\\\\MiKTeX\\\\tex/latex/amsmath\\\\amsbsy.sty)\\r\\n(C:\\\\Users\\\\USER\\\\AppData\\\\Local\\\\Programs\\\\MiKTeX\\\\tex/latex/amsmath\\\\amsopn.sty))\\r\\n(C:\\\\Users\\\\USER\\\\AppData\\\\Local\\\\Programs\\\\MiKTeX\\\\tex/latex/amsfonts\\\\amsfonts.sty)\\r\\n(C:\\\\Users\\\\USER\\\\AppData\\\\Local\\\\Programs\\\\MiKTeX\\\\tex/latex/euler\\\\euler.sty\\r\\nPackage: `euler' v2.5 <1995/03/05> (FJ and FMi)\\r\\n)\\r\\n(C:\\\\Users\\\\USER\\\\AppData\\\\Local\\\\Programs\\\\MiKTeX\\\\tex/latex/l3backend\\\\l3backend-dvip\\r\\ns.def)\\r\\nNo file texput.aux.\\r\\n\\r\\nLaTeX Font Warning: Font shape `OT1/cmr/m/up' undefined\\r\\n(Font)              using `OT1/cmr/m/n' instead on input line 9.\\r\\n\\r\\n(C:\\\\Users\\\\USER\\\\AppData\\\\Local\\\\Programs\\\\MiKTeX\\\\tex/latex/amsfonts\\\\ueur.fd)\\r\\n(C:\\\\Users\\\\USER\\\\AppData\\\\Local\\\\Programs\\\\MiKTeX\\\\tex/latex/amsfonts\\\\umsa.fd)\\r\\n(C:\\\\Users\\\\USER\\\\AppData\\\\Local\\\\Programs\\\\MiKTeX\\\\tex/latex/amsfonts\\\\umsb.fd)\\r\\n(C:\\\\Users\\\\USER\\\\AppData\\\\Local\\\\Programs\\\\MiKTeX\\\\tex/latex/amsfonts\\\\ueuf.fd)\\r\\n(C:\\\\Users\\\\USER\\\\AppData\\\\Local\\\\Programs\\\\MiKTeX\\\\tex/latex/amsfonts\\\\ueus.fd)\\r\\n(C:\\\\Users\\\\USER\\\\AppData\\\\Local\\\\Programs\\\\MiKTeX\\\\tex/latex/amsfonts\\\\ueuex.fd)\\r\\nRunaway argument?\\r\\n{\\\\text {The function \\\\$f(x)\\\\$ is graphed below. Each small box has wi\\\\ETC.\\r\\n! Paragraph ended before \\\\select@group was complete.\\r\\n<to be read again> \\r\\n                   \\\\par \\r\\nl.10 \\r\\n     \\r\\nNo pages of output.\\r\\nTranscript written on texput.log.\\r\\nlatex: major issue: So far, you have not checked for MiKTeX updates.\\r\\n\""
          ]
        }
      ],
      "source": [
        "if not os.path.exists('./latexIMG'): os.makedirs('./latexIMG') # Creating the directory to store the images\n",
        "skip = 0\n",
        "\n",
        "examples = len(QA)\n",
        "\n",
        "for ix in tqdm.tqdm(range(examples), desc='Generating images'):\n",
        "    quest = QA[ix]\n",
        "    \n",
        "    # Check if the image already exists\n",
        "    if os.path.exists(f'./latexIMG/MATH_LATEX_DATA_{ix}.jpg'): continue\n",
        "\n",
        "    preview(quest, viewer='file', filename=f'./latexIMG/MATH_LATEX_DATA_{ix}.jpg')\n",
        "    \n",
        "#     try:\n",
        "#          preview(quest, viewer='file', filename=f'./latexIMG/MATH_LATEX_DATA_{ix}.jpg')\n",
        "\n",
        "#     except RuntimeError:\n",
        "#          clear_output()\n",
        "#          print(\"skiping! \\nindex code:\", ix, \"\\n\\nSKIPED = \", skip:=skip+1)\n"
      ]
    },
    {
      "cell_type": "code",
      "execution_count": null,
      "metadata": {},
      "outputs": [],
      "source": []
    }
  ],
  "metadata": {
    "colab": {
      "authorship_tag": "ABX9TyOV07CSRbToWqWgkwlQKgh4",
      "include_colab_link": true,
      "provenance": []
    },
    "kernelspec": {
      "display_name": "Python 3",
      "name": "python3"
    },
    "language_info": {
      "codemirror_mode": {
        "name": "ipython",
        "version": 3
      },
      "file_extension": ".py",
      "mimetype": "text/x-python",
      "name": "python",
      "nbconvert_exporter": "python",
      "pygments_lexer": "ipython3",
      "version": "3.12.6"
    }
  },
  "nbformat": 4,
  "nbformat_minor": 0
}
